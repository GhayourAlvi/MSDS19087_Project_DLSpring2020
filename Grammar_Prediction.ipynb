{
  "nbformat": 4,
  "nbformat_minor": 0,
  "metadata": {
    "colab": {
      "name": "Grammar Prediction",
      "provenance": [],
      "collapsed_sections": [],
      "toc_visible": true
    },
    "kernelspec": {
      "name": "python3",
      "display_name": "Python 3"
    }
  },
  "cells": [
    {
      "cell_type": "code",
      "metadata": {
        "id": "xj-63NFG--wV",
        "colab_type": "code",
        "colab": {}
      },
      "source": [
        "import numpy as np\n",
        "\n",
        "from tensorflow.keras.models import Sequential\n",
        "from tensorflow.keras.layers import TimeDistributed, Dense, Dropout, SimpleRNN, RepeatVector\n",
        "from tensorflow.keras.callbacks import EarlyStopping, LambdaCallback\n",
        "\n",
        "from termcolor import colored"
      ],
      "execution_count": null,
      "outputs": []
    },
    {
      "cell_type": "code",
      "metadata": {
        "id": "fS6nLBn79D94",
        "colab_type": "code",
        "colab": {}
      },
      "source": [
        "from google.colab import auth\n",
        "auth.authenticate_user()\n",
        "import gspread\n",
        "from oauth2client.client import GoogleCredentials\n",
        "gc = gspread.authorize(GoogleCredentials.get_application_default())\n",
        "\n",
        "import pandas as pd\n",
        "import matplotlib.pyplot as plt\n",
        "\n",
        "wb = gc.open_by_url('https://docs.google.com/spreadsheets/d/1ot8kUHRmmquThfm4Fu8FGHVueDG0HQvgAl7DC4PyNEk/edit#gid=854215923')"
      ],
      "execution_count": null,
      "outputs": []
    },
    {
      "cell_type": "code",
      "metadata": {
        "id": "0R-gFZu-934y",
        "colab_type": "code",
        "colab": {}
      },
      "source": [
        "sheet = wb.worksheet('predicted')\n",
        "data = sheet.get_all_values()"
      ],
      "execution_count": null,
      "outputs": []
    },
    {
      "cell_type": "code",
      "metadata": {
        "id": "M4EYM7lz-TzF",
        "colab_type": "code",
        "colab": {}
      },
      "source": [
        "df = pd.DataFrame(data)\n",
        "df.columns = df.iloc[0]\n",
        "df = df.iloc[1:]"
      ],
      "execution_count": null,
      "outputs": []
    },
    {
      "cell_type": "code",
      "metadata": {
        "id": "CzSudYcC-ZDE",
        "colab_type": "code",
        "colab": {
          "base_uri": "https://localhost:8080/",
          "height": 204
        },
        "outputId": "72827298-2ac9-4220-ebae-4156c4d9e995"
      },
      "source": [
        "df.head()"
      ],
      "execution_count": null,
      "outputs": [
        {
          "output_type": "execute_result",
          "data": {
            "text/html": [
              "<div>\n",
              "<style scoped>\n",
              "    .dataframe tbody tr th:only-of-type {\n",
              "        vertical-align: middle;\n",
              "    }\n",
              "\n",
              "    .dataframe tbody tr th {\n",
              "        vertical-align: top;\n",
              "    }\n",
              "\n",
              "    .dataframe thead th {\n",
              "        text-align: right;\n",
              "    }\n",
              "</style>\n",
              "<table border=\"1\" class=\"dataframe\">\n",
              "  <thead>\n",
              "    <tr style=\"text-align: right;\">\n",
              "      <th></th>\n",
              "      <th>0</th>\n",
              "      <th>Captions</th>\n",
              "      <th>Grammar</th>\n",
              "    </tr>\n",
              "  </thead>\n",
              "  <tbody>\n",
              "    <tr>\n",
              "      <th>1</th>\n",
              "      <td>1003163366_44323f5815.jpg</td>\n",
              "      <td>ایک قمیض کے بغیر شخص اپنے کتے کے ساتھ پارک بین...</td>\n",
              "      <td>1</td>\n",
              "    </tr>\n",
              "    <tr>\n",
              "      <th>2</th>\n",
              "      <td>1003163366_44323f5815.jpg</td>\n",
              "      <td>ایک شخص بینچ پر لیٹا ہے جبکہ اس کا کتا اس کے س...</td>\n",
              "      <td>1</td>\n",
              "    </tr>\n",
              "    <tr>\n",
              "      <th>3</th>\n",
              "      <td>1003163366_44323f5815.jpg</td>\n",
              "      <td>ایک شخص بینچ پر لیٹا ہے جبکہ اس کے ساتھ اپنے ک...</td>\n",
              "      <td>0</td>\n",
              "    </tr>\n",
              "    <tr>\n",
              "      <th>4</th>\n",
              "      <td>1003163366_44323f5815.jpg</td>\n",
              "      <td>ایک شخص بینچ پر لیٹا ہے جبکہ دوسرا شخص بینچ پر...</td>\n",
              "      <td>1</td>\n",
              "    </tr>\n",
              "    <tr>\n",
              "      <th>5</th>\n",
              "      <td>1003163366_44323f5815.jpg</td>\n",
              "      <td>ایک قمیض کے بغیر شخص اپنے کتے کے ساتھ پارک بین...</td>\n",
              "      <td>1</td>\n",
              "    </tr>\n",
              "  </tbody>\n",
              "</table>\n",
              "</div>"
            ],
            "text/plain": [
              "0                          0  ... Grammar\n",
              "1  1003163366_44323f5815.jpg  ...       1\n",
              "2  1003163366_44323f5815.jpg  ...       1\n",
              "3  1003163366_44323f5815.jpg  ...       0\n",
              "4  1003163366_44323f5815.jpg  ...       1\n",
              "5  1003163366_44323f5815.jpg  ...       1\n",
              "\n",
              "[5 rows x 3 columns]"
            ]
          },
          "metadata": {
            "tags": []
          },
          "execution_count": 5
        }
      ]
    },
    {
      "cell_type": "code",
      "metadata": {
        "id": "WhNQ1JZo-i0c",
        "colab_type": "code",
        "colab": {}
      },
      "source": [
        "ind = 1005"
      ],
      "execution_count": null,
      "outputs": []
    },
    {
      "cell_type": "code",
      "metadata": {
        "id": "knGc_inX_Zja",
        "colab_type": "code",
        "colab": {}
      },
      "source": [
        "labels = df.Grammar.tolist()\n",
        "labels = labels[:ind]\n",
        "captions = df.Captions.tolist()\n",
        "captions = captions[:ind]"
      ],
      "execution_count": null,
      "outputs": []
    },
    {
      "cell_type": "code",
      "metadata": {
        "id": "ABgKACWp_-SR",
        "colab_type": "code",
        "colab": {
          "base_uri": "https://localhost:8080/",
          "height": 34
        },
        "outputId": "7c1306d3-b5f4-49a2-dd73-1226ba63274a"
      },
      "source": [
        "max_len = max([len(caption) for caption in captions])\n",
        "max_len"
      ],
      "execution_count": null,
      "outputs": [
        {
          "output_type": "execute_result",
          "data": {
            "text/plain": [
              "251"
            ]
          },
          "metadata": {
            "tags": []
          },
          "execution_count": 8
        }
      ]
    },
    {
      "cell_type": "code",
      "metadata": {
        "id": "Ig3gD3UwBBsY",
        "colab_type": "code",
        "colab": {
          "base_uri": "https://localhost:8080/",
          "height": 34
        },
        "outputId": "afb89363-c6a8-4ff5-e93f-3f9e326f154d"
      },
      "source": [
        "chars = {'<','e','n','d','>'}\n",
        "for i in range(len(captions)):\n",
        "    caption = captions[i]\n",
        "    caption = caption.replace('\\u200b','')\n",
        "    caption = caption.replace('\\u200d','')\n",
        "    captions[i] = caption\n",
        "    cap = set(list(caption))\n",
        "    chars = chars.union(cap)\n",
        "\n",
        "chars = sorted(list(chars))\n",
        "len(chars)"
      ],
      "execution_count": null,
      "outputs": [
        {
          "output_type": "execute_result",
          "data": {
            "text/plain": [
              "59"
            ]
          },
          "metadata": {
            "tags": []
          },
          "execution_count": 9
        }
      ]
    },
    {
      "cell_type": "code",
      "metadata": {
        "id": "KdQuLPl_A9vn",
        "colab_type": "code",
        "colab": {
          "base_uri": "https://localhost:8080/",
          "height": 35
        },
        "outputId": "e2dda31a-bd74-4a2d-c8a8-ac507d9f45a3"
      },
      "source": [
        "all_chars='1'\n",
        "for char in chars:\n",
        "    all_chars = all_chars + char\n",
        "\n",
        "all_chars"
      ],
      "execution_count": null,
      "outputs": [
        {
          "output_type": "execute_result",
          "data": {
            "application/vnd.google.colaboratory.intrinsic": {
              "type": "string"
            },
            "text/plain": [
              "'1 02578<>adentvآؤئابتثجحخدذرزسشصضطظعغفقلمنهوُِٹپچڈڑژکگںھہیےۓ'"
            ]
          },
          "metadata": {
            "tags": []
          },
          "execution_count": 10
        }
      ]
    },
    {
      "cell_type": "code",
      "metadata": {
        "id": "4gdukuvTBJ-I",
        "colab_type": "code",
        "colab": {
          "base_uri": "https://localhost:8080/",
          "height": 34
        },
        "outputId": "4d20073c-b330-4ea6-c785-9dfb0769e159"
      },
      "source": [
        "num_features = len(all_chars)\n",
        "print('number of features:', num_features)\n",
        "char_to_index = dict((c,i) for i,c in enumerate(all_chars))\n",
        "index_to_char = dict((i,c) for i,c in enumerate(all_chars))"
      ],
      "execution_count": null,
      "outputs": [
        {
          "output_type": "stream",
          "text": [
            "number of features: 60\n"
          ],
          "name": "stdout"
        }
      ]
    },
    {
      "cell_type": "code",
      "metadata": {
        "id": "t3fOfZXTBnvt",
        "colab_type": "code",
        "colab": {}
      },
      "source": [
        "def generate_data():\n",
        "    return captions,labels"
      ],
      "execution_count": null,
      "outputs": []
    },
    {
      "cell_type": "markdown",
      "metadata": {
        "id": "JWGEUG0KF6FM",
        "colab_type": "text"
      },
      "source": [
        "## Task4: Vectorize and De-Vectorize Data"
      ]
    },
    {
      "cell_type": "code",
      "metadata": {
        "id": "raHcB1AYFq8U",
        "colab_type": "code",
        "colab": {
          "base_uri": "https://localhost:8080/",
          "height": 51
        },
        "outputId": "5d57efd8-8fc7-4a5e-c366-0a9752ae316f"
      },
      "source": [
        "def vectorize_example(example,label):\n",
        "    x = np.zeros((max_len, num_features))\n",
        "    # y = np.zeros((max_time_steps, num_features))\n",
        "\n",
        "    diff_x = max_len - len(example)\n",
        "    # diff_y = max_time_steps - len(label)\n",
        "\n",
        "    for i,c in enumerate(example):\n",
        "        x[i+diff_x, char_to_index[c]] = 1\n",
        "    for i in range(diff_x):\n",
        "        x[i,char_to_index[' ']] = 1\n",
        "    # for i,c in enumerate(label):\n",
        "    #     y[i+diff_y, char_to_index[c]] = 1\n",
        "    # for i in range(diff_y):\n",
        "    #     y[i,char_to_index[' ']] = 1\n",
        "    return x,np.array(label).reshape((1))\n",
        "\n",
        "e,l = generate_data()\n",
        "print(e[2],l[2])\n",
        "\n",
        "x,y = vectorize_example(e[1],l[1])\n",
        "print(x.shape,y.shape)"
      ],
      "execution_count": null,
      "outputs": [
        {
          "output_type": "stream",
          "text": [
            "ایک شخص بینچ پر لیٹا ہے جبکہ اس کے ساتھ اپنے کتے کے ساتھ پارک بینچ پر پڑا ہے <end> 0\n",
            "(251, 60) (1,)\n"
          ],
          "name": "stdout"
        }
      ]
    },
    {
      "cell_type": "code",
      "metadata": {
        "id": "J85h1yASI-a3",
        "colab_type": "code",
        "colab": {
          "base_uri": "https://localhost:8080/",
          "height": 52
        },
        "outputId": "e43cbca9-7283-45b9-9178-146ec0e2ec93"
      },
      "source": [
        "def devectorize_example(example):\n",
        "    if len(example) == 1:\n",
        "        return str(int(example))\n",
        "    result = [index_to_char[np.argmax(vec)] for i,vec in enumerate(example)]\n",
        "    return ''.join(result)\n",
        "\n",
        "devectorize_example(x)"
      ],
      "execution_count": null,
      "outputs": [
        {
          "output_type": "execute_result",
          "data": {
            "application/vnd.google.colaboratory.intrinsic": {
              "type": "string"
            },
            "text/plain": [
              "'                                                                                                                                                                                ایک شخص بینچ پر لیٹا ہے جبکہ اس کا کتا اس کے ساتھ پارک بینچ پر پڑا ہے <end>'"
            ]
          },
          "metadata": {
            "tags": []
          },
          "execution_count": 14
        }
      ]
    },
    {
      "cell_type": "code",
      "metadata": {
        "id": "MsW2-WNbKkzO",
        "colab_type": "code",
        "colab": {
          "base_uri": "https://localhost:8080/",
          "height": 35
        },
        "outputId": "98407329-b57e-4935-db81-a440206c54d3"
      },
      "source": [
        "devectorize_example(y)"
      ],
      "execution_count": null,
      "outputs": [
        {
          "output_type": "execute_result",
          "data": {
            "application/vnd.google.colaboratory.intrinsic": {
              "type": "string"
            },
            "text/plain": [
              "'1'"
            ]
          },
          "metadata": {
            "tags": []
          },
          "execution_count": 15
        }
      ]
    },
    {
      "cell_type": "markdown",
      "metadata": {
        "id": "hnGf0H5KKvfJ",
        "colab_type": "text"
      },
      "source": [
        "## Task5: Create Dataset"
      ]
    },
    {
      "cell_type": "code",
      "metadata": {
        "id": "W9_THM6aKncB",
        "colab_type": "code",
        "colab": {
          "base_uri": "https://localhost:8080/",
          "height": 34
        },
        "outputId": "9bbe1590-a98a-4329-e180-08ddafcf32c0"
      },
      "source": [
        "def create_dataset(num_examples):\n",
        "    x = np.zeros((num_examples,max_len, num_features))\n",
        "    y = np.zeros((num_examples,1))\n",
        "\n",
        "    for i in range(num_examples):\n",
        "        e,l = captions[i], labels[i]\n",
        "        e_v, l_v = vectorize_example(e,l)\n",
        "        #print(i,l,l_v)\n",
        "        x[i] = e_v\n",
        "        y[i] = l_v\n",
        "\n",
        "    return x,y\n",
        "\n",
        "x,y = create_dataset(ind)    \n",
        "print(x.shape, y.shape)"
      ],
      "execution_count": null,
      "outputs": [
        {
          "output_type": "stream",
          "text": [
            "(1005, 251, 60) (1005, 1)\n"
          ],
          "name": "stdout"
        }
      ]
    },
    {
      "cell_type": "code",
      "metadata": {
        "id": "pluX7kDrMD3O",
        "colab_type": "code",
        "colab": {
          "base_uri": "https://localhost:8080/",
          "height": 52
        },
        "outputId": "e4328139-d865-4be9-970a-aa3552d33d0d"
      },
      "source": [
        "devectorize_example(x[2])"
      ],
      "execution_count": null,
      "outputs": [
        {
          "output_type": "execute_result",
          "data": {
            "application/vnd.google.colaboratory.intrinsic": {
              "type": "string"
            },
            "text/plain": [
              "'                                                                                                                                                                         ایک شخص بینچ پر لیٹا ہے جبکہ اس کے ساتھ اپنے کتے کے ساتھ پارک بینچ پر پڑا ہے <end>'"
            ]
          },
          "metadata": {
            "tags": []
          },
          "execution_count": 17
        }
      ]
    },
    {
      "cell_type": "code",
      "metadata": {
        "id": "bgcpnGcoMGU9",
        "colab_type": "code",
        "colab": {
          "base_uri": "https://localhost:8080/",
          "height": 35
        },
        "outputId": "51800373-7b51-448a-b51c-150c738c1dae"
      },
      "source": [
        "devectorize_example(y[2])"
      ],
      "execution_count": null,
      "outputs": [
        {
          "output_type": "execute_result",
          "data": {
            "application/vnd.google.colaboratory.intrinsic": {
              "type": "string"
            },
            "text/plain": [
              "'0'"
            ]
          },
          "metadata": {
            "tags": []
          },
          "execution_count": 18
        }
      ]
    },
    {
      "cell_type": "code",
      "metadata": {
        "id": "nfSnu1RhkTH6",
        "colab_type": "code",
        "colab": {
          "base_uri": "https://localhost:8080/",
          "height": 119
        },
        "outputId": "be4bd59c-bfc9-44b9-cf25-375d86785bb8"
      },
      "source": [
        "rand_i = list(range(0,len(y)))\n",
        "\n",
        "tr_p = int(len(rand_i)*0.6)\n",
        "vl_p = int(len(rand_i)*0.8)\n",
        "trainX = np.array([x[i] for i in rand_i[:tr_p]])\n",
        "trainY = np.array([y[i] for i in rand_i[:tr_p]])\n",
        "validX = np.array([x[i] for i in rand_i[tr_p:vl_p]])\n",
        "validY = np.array([y[i] for i in rand_i[tr_p:vl_p]])\n",
        "testX = np.array([x[i] for i in rand_i[vl_p:]])\n",
        "testY = np.array([y[i] for i in rand_i[vl_p:]])\n",
        "\n",
        "print(\"trainX.shape\",trainX.shape)\n",
        "print(\"trainY.shape\",trainY.shape)\n",
        "print(\"validX.shape\",validX.shape)\n",
        "print(\"validY.shape\",validY.shape)\n",
        "print(\"testX.shape\",testX.shape)\n",
        "print(\"testY.shape\",testY.shape)\n"
      ],
      "execution_count": null,
      "outputs": [
        {
          "output_type": "stream",
          "text": [
            "trainX.shape (603, 251, 60)\n",
            "trainY.shape (603, 1)\n",
            "validX.shape (201, 251, 60)\n",
            "validY.shape (201, 1)\n",
            "testX.shape (201, 251, 60)\n",
            "testY.shape (201, 1)\n"
          ],
          "name": "stdout"
        }
      ]
    },
    {
      "cell_type": "markdown",
      "metadata": {
        "id": "lFdK49eCMf5B",
        "colab_type": "text"
      },
      "source": [
        "## Task6: Training the Model"
      ]
    },
    {
      "cell_type": "code",
      "metadata": {
        "id": "QsGOUNRTqP5n",
        "colab_type": "code",
        "colab": {}
      },
      "source": [
        "classifier = Sequential()\n",
        "#First Hidden Layer\n",
        "classifier.add(Dense(251*60, activation='relu', kernel_initializer='random_normal'))\n",
        "#Second  Hidden Layer\n",
        "classifier.add(Dense(1024, activation='relu', kernel_initializer='random_normal'))\n",
        "classifier.add(Dense(128, activation='relu', kernel_initializer='random_normal'))\n",
        "#Output Layer\n",
        "classifier.add(Dense(1, activation='sigmoid', kernel_initializer='random_normal'))\n",
        "\n",
        "classifier.compile(optimizer ='adam',loss='binary_crossentropy', metrics =['accuracy'])"
      ],
      "execution_count": null,
      "outputs": []
    },
    {
      "cell_type": "code",
      "metadata": {
        "id": "G7bRRNaLt_ei",
        "colab_type": "code",
        "colab": {
          "base_uri": "https://localhost:8080/",
          "height": 663
        },
        "outputId": "1c29ea50-c205-4fb5-8d09-18624f1348cd"
      },
      "source": [
        "classifier.fit(x,y, batch_size=50, epochs=50)"
      ],
      "execution_count": null,
      "outputs": [
        {
          "output_type": "stream",
          "text": [
            "Epoch 1/50\n",
            "21/21 [==============================] - 402s 19s/step - loss: 0.6724 - accuracy: 0.6224\n",
            "Epoch 2/50\n",
            "21/21 [==============================] - 403s 19s/step - loss: 0.6622 - accuracy: 0.6337\n",
            "Epoch 3/50\n",
            "21/21 [==============================] - 400s 19s/step - loss: 0.6612 - accuracy: 0.6338\n",
            "Epoch 4/50\n",
            "21/21 [==============================] - 401s 19s/step - loss: 0.6594 - accuracy: 0.6338\n",
            "Epoch 5/50\n",
            "21/21 [==============================] - 401s 19s/step - loss: 0.6556 - accuracy: 0.6338\n",
            "Epoch 6/50\n",
            "21/21 [==============================] - 402s 19s/step - loss: 0.6558 - accuracy: 0.6338\n",
            "Epoch 7/50\n",
            "21/21 [==============================] - 403s 19s/step - loss: 0.6583 - accuracy: 0.6338\n",
            "Epoch 8/50\n",
            "21/21 [==============================] - 403s 19s/step - loss: 0.6581 - accuracy: 0.6338\n",
            "Epoch 9/50\n",
            "21/21 [==============================] - 402s 19s/step - loss: 0.6562 - accuracy: 0.6338\n",
            "Epoch 10/50\n",
            "21/21 [==============================] - 402s 19s/step - loss: 0.6567 - accuracy: 0.6338\n",
            "Epoch 11/50\n",
            "21/21 [==============================] - 403s 19s/step - loss: 0.6580 - accuracy: 0.6339\n",
            "Epoch 12/50\n",
            "21/21 [==============================] - 401s 19s/step - loss: 0.6629 - accuracy: 0.6338\n",
            "Epoch 13/50\n",
            "21/21 [==============================] - 401s 19s/step - loss: 0.6559 - accuracy: 0.6339\n",
            "Epoch 14/50\n",
            "21/21 [==============================] - 402s 19s/step - loss: 0.6557 - accuracy: 0.6339\n",
            "Epoch 15/50\n",
            "21/21 [==============================] - 402s 19s/step - loss: 0.6578 - accuracy: 0.6338\n",
            "Epoch 16/50\n",
            "21/21 [==============================] - 401s 19s/step - loss: 0.6618 - accuracy: 0.6339\n",
            "Epoch 17/50\n",
            "21/21 [==============================] - 401s 19s/step - loss: 0.6560 - accuracy: 0.6339\n",
            "Epoch 18/50\n",
            "21/21 [==============================] - 402s 19s/step - loss: 0.6560 - accuracy: 0.6339\n",
            "Epoch 19/50\n",
            "13/21 [=================>............] - ETA: 2:35 - loss: 0.6522 - accuracy: 0.6431"
          ],
          "name": "stdout"
        }
      ]
    }
  ]
}
